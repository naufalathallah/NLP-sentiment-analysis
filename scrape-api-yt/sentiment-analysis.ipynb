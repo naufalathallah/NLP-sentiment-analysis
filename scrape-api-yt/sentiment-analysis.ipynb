{
  "nbformat": 4,
  "nbformat_minor": 0,
  "metadata": {
    "colab": {
      "provenance": []
    },
    "kernelspec": {
      "name": "python3",
      "display_name": "Python 3"
    },
    "language_info": {
      "name": "python"
    }
  },
  "cells": [
    {
      "cell_type": "code",
      "source": [
        "import pandas as pd\n",
        "import numpy as np\n",
        "import re\n",
        "import nltk\n",
        "from nltk.corpus import stopwords\n",
        "from nltk.tokenize import word_tokenize\n",
        "from sklearn.model_selection import train_test_split\n",
        "from sklearn.feature_extraction.text import TfidfVectorizer\n",
        "from sklearn.naive_bayes import MultinomialNB\n",
        "from sklearn.svm import SVC\n",
        "from sklearn.ensemble import RandomForestClassifier\n",
        "from sklearn.metrics import accuracy_score, classification_report\n",
        "from textblob import TextBlob\n",
        "import seaborn as sns\n",
        "import matplotlib.pyplot as plt\n",
        "from imblearn.over_sampling import SMOTE\n",
        "nltk.download('punkt')  # Untuk tokenisasi kata\n",
        "nltk.download('stopwords')  # Untuk daftar stopwords\n",
        "nltk.download('punkt_tab')\n",
        "nltk.data.path.append('/root/nltk_data')"
      ],
      "metadata": {
        "colab": {
          "base_uri": "https://localhost:8080/"
        },
        "id": "r-qj9uh8jjNR",
        "outputId": "74375f4f-3f63-46be-a51a-a7437f5e445e"
      },
      "execution_count": 46,
      "outputs": [
        {
          "output_type": "stream",
          "name": "stderr",
          "text": [
            "[nltk_data] Downloading package punkt to /root/nltk_data...\n",
            "[nltk_data]   Package punkt is already up-to-date!\n",
            "[nltk_data] Downloading package stopwords to /root/nltk_data...\n",
            "[nltk_data]   Package stopwords is already up-to-date!\n",
            "[nltk_data] Downloading package punkt_tab to /root/nltk_data...\n",
            "[nltk_data]   Package punkt_tab is already up-to-date!\n"
          ]
        }
      ]
    },
    {
      "cell_type": "code",
      "source": [
        "# Load Dataset\n",
        "file_path = \"/content/youtube_comments-20250301_022205.csv\"\n",
        "df = pd.read_csv(file_path)"
      ],
      "metadata": {
        "id": "h7xTNRpDjlYo"
      },
      "execution_count": 47,
      "outputs": []
    },
    {
      "cell_type": "code",
      "source": [
        "# Drop missing values\n",
        "df.dropna(subset=['content'], inplace=True)\n",
        "\n",
        "# Text Preprocessing\n",
        "def clean_text(text):\n",
        "    text = text.lower()  # Lowercasing\n",
        "    text = re.sub(r'http\\S+|www\\S+', '', text)  # Remove URLs\n",
        "    text = re.sub(r'[^a-zA-Z0-9\\s]', '', text)  # Remove special characters\n",
        "    words = word_tokenize(text)\n",
        "    words = [word for word in words if word not in stopwords.words('english')]\n",
        "    return ' '.join(words)\n",
        "\n",
        "df['cleaned_content'] = df['content'].apply(clean_text)"
      ],
      "metadata": {
        "id": "ZyiOaaETjodq"
      },
      "execution_count": 48,
      "outputs": []
    },
    {
      "cell_type": "code",
      "source": [
        "# Sentiment Labeling using TextBlob\n",
        "def get_sentiment(text):\n",
        "    analysis = TextBlob(text)\n",
        "    if analysis.sentiment.polarity > 0:\n",
        "        return 'positive'\n",
        "    elif analysis.sentiment.polarity < 0:\n",
        "        return 'negative'\n",
        "    else:\n",
        "        return 'neutral'\n",
        "\n",
        "df['sentiment'] = df['cleaned_content'].apply(get_sentiment)\n",
        "print(df['sentiment'].value_counts())"
      ],
      "metadata": {
        "colab": {
          "base_uri": "https://localhost:8080/"
        },
        "id": "x-4FmRfnjruX",
        "outputId": "89145697-18d5-4666-eadb-2a1544a7d6e9"
      },
      "execution_count": 49,
      "outputs": [
        {
          "output_type": "stream",
          "name": "stdout",
          "text": [
            "sentiment\n",
            "neutral     2066\n",
            "positive     670\n",
            "negative     264\n",
            "Name: count, dtype: int64\n"
          ]
        }
      ]
    },
    {
      "cell_type": "code",
      "source": [
        "smote = SMOTE(sampling_strategy='auto', random_state=42)\n",
        "X_train_resampled, y_train_resampled = smote.fit_resample(X_train, y_train)\n",
        "\n",
        "print(y_train_resampled.value_counts())  # Cek distribusi baru setelah SMOTE"
      ],
      "metadata": {
        "colab": {
          "base_uri": "https://localhost:8080/"
        },
        "id": "2IYIoA07tl31",
        "outputId": "5e579b07-a3c9-48a0-8ee9-9a1e0e8a7fcd"
      },
      "execution_count": 50,
      "outputs": [
        {
          "output_type": "stream",
          "name": "stdout",
          "text": [
            "sentiment\n",
            "neutral     1653\n",
            "positive    1653\n",
            "negative    1653\n",
            "Name: count, dtype: int64\n"
          ]
        }
      ]
    },
    {
      "cell_type": "code",
      "source": [
        "# Feature Extraction (TF-IDF)\n",
        "tfidf_vectorizer = TfidfVectorizer(max_features=10000, ngram_range=(1,2))\n",
        "X = tfidf_vectorizer.fit_transform(df['cleaned_content'])\n",
        "y = df['sentiment']"
      ],
      "metadata": {
        "id": "whiFcJoYjuwt"
      },
      "execution_count": 51,
      "outputs": []
    },
    {
      "cell_type": "code",
      "source": [
        "# Split Data\n",
        "X_train, X_test, y_train, y_test = train_test_split(X, y, test_size=0.2, random_state=42)\n",
        "\n",
        "# Model Training & Evaluation\n",
        "models = {\n",
        "    'Naive Bayes': MultinomialNB(),\n",
        "    'SVM': SVC(kernel='linear', probability=True),\n",
        "    'Random Forest': RandomForestClassifier(n_estimators=100)\n",
        "}\n",
        "\n",
        "results = {}\n",
        "\n",
        "for name, model in models.items():\n",
        "    model.fit(X_train, y_train)\n",
        "    y_pred = model.predict(X_test)\n",
        "    acc = accuracy_score(y_test, y_pred)\n",
        "    results[name] = acc\n",
        "    print(f\"{name} Accuracy: {acc:.4f}\")\n",
        "    print(classification_report(y_test, y_pred))"
      ],
      "metadata": {
        "colab": {
          "base_uri": "https://localhost:8080/"
        },
        "id": "nzljZSB0jydq",
        "outputId": "2ed7dbdf-6844-4b99-875f-1e05554d1a36"
      },
      "execution_count": 52,
      "outputs": [
        {
          "output_type": "stream",
          "name": "stdout",
          "text": [
            "Naive Bayes Accuracy: 0.7717\n",
            "              precision    recall  f1-score   support\n",
            "\n",
            "    negative       1.00      0.05      0.10        60\n",
            "     neutral       0.76      1.00      0.86       413\n",
            "    positive       0.92      0.37      0.53       127\n",
            "\n",
            "    accuracy                           0.77       600\n",
            "   macro avg       0.89      0.47      0.49       600\n",
            "weighted avg       0.82      0.77      0.71       600\n",
            "\n",
            "SVM Accuracy: 0.8550\n",
            "              precision    recall  f1-score   support\n",
            "\n",
            "    negative       0.93      0.42      0.57        60\n",
            "     neutral       0.84      0.99      0.91       413\n",
            "    positive       0.92      0.61      0.74       127\n",
            "\n",
            "    accuracy                           0.85       600\n",
            "   macro avg       0.89      0.67      0.74       600\n",
            "weighted avg       0.87      0.85      0.84       600\n",
            "\n",
            "Random Forest Accuracy: 0.9000\n",
            "              precision    recall  f1-score   support\n",
            "\n",
            "    negative       1.00      0.57      0.72        60\n",
            "     neutral       0.89      1.00      0.94       413\n",
            "    positive       0.93      0.73      0.82       127\n",
            "\n",
            "    accuracy                           0.90       600\n",
            "   macro avg       0.94      0.77      0.83       600\n",
            "weighted avg       0.91      0.90      0.89       600\n",
            "\n"
          ]
        }
      ]
    },
    {
      "cell_type": "code",
      "source": [
        "# Visualizing Performance\n",
        "plt.figure(figsize=(8,5))\n",
        "sns.barplot(x=list(results.keys()), y=list(results.values()))\n",
        "plt.xlabel(\"Model\")\n",
        "plt.ylabel(\"Accuracy\")\n",
        "plt.title(\"Model Performance Comparison\")\n",
        "plt.show()"
      ],
      "metadata": {
        "colab": {
          "base_uri": "https://localhost:8080/",
          "height": 487
        },
        "id": "70G8jCfjj4Yq",
        "outputId": "2428c863-22be-4dd1-bf46-aa4ec07dcbdb"
      },
      "execution_count": 53,
      "outputs": [
        {
          "output_type": "display_data",
          "data": {
            "text/plain": [
              "<Figure size 800x500 with 1 Axes>"
            ],
            "image/png": "[encoded data removed]"
          },
          "metadata": {}
        }
      ]
    },
    {
      "cell_type": "code",
      "source": [
        "new_sentences = [\"this app is very shit\", \"very useful application\", \"the app is quite good\"]\n",
        "\n",
        "new_cleaned = [clean_text(text) for text in new_sentences]\n",
        "\n",
        "new_tfidf = tfidf_vectorizer.transform(new_cleaned)\n",
        "\n",
        "best_model = models['Random Forest']\n",
        "\n",
        "predictions = best_model.predict(new_tfidf)\n",
        "\n",
        "for sentence, label in zip(new_sentences, predictions):\n",
        "    print(f'Sentence: \"{sentence}\" - Predicted Label: {label}')"
      ],
      "metadata": {
        "colab": {
          "base_uri": "https://localhost:8080/"
        },
        "id": "SWqiASBxtJ_c",
        "outputId": "380a08e7-736f-4d42-efcd-5449e2081373"
      },
      "execution_count": 54,
      "outputs": [
        {
          "output_type": "stream",
          "name": "stdout",
          "text": [
            "Sentence: \"this app is very shit\" - Predicted Label: negative\n",
            "Sentence: \"very useful application\" - Predicted Label: neutral\n",
            "Sentence: \"the app is quite good\" - Predicted Label: positive\n"
          ]
        }
      ]
    }
  ]
}