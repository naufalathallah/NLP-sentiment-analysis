{
  "nbformat": 4,
  "nbformat_minor": 0,
  "metadata": {
    "colab": {
      "provenance": []
    },
    "kernelspec": {
      "name": "python3",
      "display_name": "Python 3"
    },
    "language_info": {
      "name": "python"
    }
  },
  "cells": [
    {
      "cell_type": "code",
      "source": [
        "import pandas as pd\n",
        "import numpy as np\n",
        "import re\n",
        "import nltk\n",
        "from nltk.corpus import stopwords\n",
        "from nltk.tokenize import word_tokenize\n",
        "from sklearn.model_selection import train_test_split\n",
        "from sklearn.feature_extraction.text import TfidfVectorizer\n",
        "from sklearn.naive_bayes import MultinomialNB\n",
        "from sklearn.svm import SVC\n",
        "from sklearn.ensemble import RandomForestClassifier\n",
        "from sklearn.metrics import accuracy_score, classification_report\n",
        "from textblob import TextBlob\n",
        "import seaborn as sns\n",
        "import matplotlib.pyplot as plt\n",
        "nltk.download('punkt')  # Untuk tokenisasi kata\n",
        "nltk.download('stopwords')  # Untuk daftar stopwords\n",
        "nltk.download('punkt_tab')\n",
        "nltk.data.path.append('/root/nltk_data')"
      ],
      "metadata": {
        "colab": {
          "base_uri": "https://localhost:8080/"
        },
        "id": "r-qj9uh8jjNR",
        "outputId": "22d0e939-c576-4bee-84c7-40bab8435404"
      },
      "execution_count": 23,
      "outputs": [
        {
          "output_type": "stream",
          "name": "stderr",
          "text": [
            "[nltk_data] Downloading package punkt to /root/nltk_data...\n",
            "[nltk_data]   Package punkt is already up-to-date!\n",
            "[nltk_data] Downloading package stopwords to /root/nltk_data...\n",
            "[nltk_data]   Package stopwords is already up-to-date!\n",
            "[nltk_data] Downloading package punkt_tab to /root/nltk_data...\n",
            "[nltk_data]   Unzipping tokenizers/punkt_tab.zip.\n"
          ]
        }
      ]
    },
    {
      "cell_type": "code",
      "source": [
        "# Load Dataset\n",
        "file_path = \"/content/youtube_comments-20250301_022205.csv\"\n",
        "df = pd.read_csv(file_path)"
      ],
      "metadata": {
        "id": "h7xTNRpDjlYo"
      },
      "execution_count": 21,
      "outputs": []
    },
    {
      "cell_type": "code",
      "source": [
        "# Drop missing values\n",
        "df.dropna(subset=['content'], inplace=True)\n",
        "\n",
        "# Text Preprocessing\n",
        "def clean_text(text):\n",
        "    text = text.lower()  # Lowercasing\n",
        "    text = re.sub(r'http\\S+|www\\S+', '', text)  # Remove URLs\n",
        "    text = re.sub(r'[^a-zA-Z0-9\\s]', '', text)  # Remove special characters\n",
        "    words = word_tokenize(text)\n",
        "    words = [word for word in words if word not in stopwords.words('english')]\n",
        "    return ' '.join(words)\n",
        "\n",
        "df['cleaned_content'] = df['content'].apply(clean_text)"
      ],
      "metadata": {
        "id": "ZyiOaaETjodq"
      },
      "execution_count": 25,
      "outputs": []
    },
    {
      "cell_type": "code",
      "source": [
        "# Sentiment Labeling using TextBlob\n",
        "def get_sentiment(text):\n",
        "    analysis = TextBlob(text)\n",
        "    if analysis.sentiment.polarity > 0:\n",
        "        return 'positive'\n",
        "    elif analysis.sentiment.polarity < 0:\n",
        "        return 'negative'\n",
        "    else:\n",
        "        return 'neutral'\n",
        "\n",
        "df['sentiment'] = df['cleaned_content'].apply(get_sentiment)\n",
        "print(df['sentiment'])"
      ],
      "metadata": {
        "colab": {
          "base_uri": "https://localhost:8080/"
        },
        "id": "x-4FmRfnjruX",
        "outputId": "2a85d660-55a4-450a-a4c8-537d8c3a8f42"
      },
      "execution_count": 30,
      "outputs": [
        {
          "output_type": "stream",
          "name": "stdout",
          "text": [
            "0        neutral\n",
            "1        neutral\n",
            "2        neutral\n",
            "3       positive\n",
            "4        neutral\n",
            "          ...   \n",
            "2997     neutral\n",
            "2998     neutral\n",
            "2999     neutral\n",
            "3000     neutral\n",
            "3001     neutral\n",
            "Name: sentiment, Length: 3000, dtype: object\n"
          ]
        }
      ]
    },
    {
      "cell_type": "code",
      "source": [
        "# Feature Extraction (TF-IDF)\n",
        "tfidf_vectorizer = TfidfVectorizer(max_features=5000)\n",
        "X = tfidf_vectorizer.fit_transform(df['cleaned_content'])\n",
        "y = df['sentiment']"
      ],
      "metadata": {
        "id": "whiFcJoYjuwt"
      },
      "execution_count": 32,
      "outputs": []
    },
    {
      "cell_type": "code",
      "source": [
        "# Split Data\n",
        "X_train, X_test, y_train, y_test = train_test_split(X, y, test_size=0.2, random_state=42)\n",
        "\n",
        "# Model Training & Evaluation\n",
        "models = {\n",
        "    'Naive Bayes': MultinomialNB(),\n",
        "    'SVM': SVC(kernel='linear', probability=True),\n",
        "    'Random Forest': RandomForestClassifier(n_estimators=100)\n",
        "}\n",
        "\n",
        "results = {}\n",
        "\n",
        "for name, model in models.items():\n",
        "    model.fit(X_train, y_train)\n",
        "    y_pred = model.predict(X_test)\n",
        "    acc = accuracy_score(y_test, y_pred)\n",
        "    results[name] = acc\n",
        "    print(f\"{name} Accuracy: {acc:.4f}\")\n",
        "    print(classification_report(y_test, y_pred))"
      ],
      "metadata": {
        "colab": {
          "base_uri": "https://localhost:8080/"
        },
        "id": "nzljZSB0jydq",
        "outputId": "535080c8-9644-481f-97e9-410085109e1e"
      },
      "execution_count": 33,
      "outputs": [
        {
          "output_type": "stream",
          "name": "stdout",
          "text": [
            "Naive Bayes Accuracy: 0.8083\n",
            "              precision    recall  f1-score   support\n",
            "\n",
            "    negative       1.00      0.07      0.12        60\n",
            "     neutral       0.80      1.00      0.88       413\n",
            "    positive       0.88      0.55      0.68       127\n",
            "\n",
            "    accuracy                           0.81       600\n",
            "   macro avg       0.89      0.54      0.56       600\n",
            "weighted avg       0.83      0.81      0.76       600\n",
            "\n",
            "SVM Accuracy: 0.9083\n",
            "              precision    recall  f1-score   support\n",
            "\n",
            "    negative       0.97      0.65      0.78        60\n",
            "     neutral       0.89      1.00      0.94       413\n",
            "    positive       0.95      0.75      0.84       127\n",
            "\n",
            "    accuracy                           0.91       600\n",
            "   macro avg       0.94      0.80      0.85       600\n",
            "weighted avg       0.91      0.91      0.90       600\n",
            "\n",
            "Random Forest Accuracy: 0.9100\n",
            "              precision    recall  f1-score   support\n",
            "\n",
            "    negative       1.00      0.68      0.81        60\n",
            "     neutral       0.90      1.00      0.94       413\n",
            "    positive       0.92      0.74      0.82       127\n",
            "\n",
            "    accuracy                           0.91       600\n",
            "   macro avg       0.94      0.81      0.86       600\n",
            "weighted avg       0.91      0.91      0.91       600\n",
            "\n"
          ]
        }
      ]
    },
    {
      "cell_type": "code",
      "source": [
        "# Visualizing Performance\n",
        "plt.figure(figsize=(8,5))\n",
        "sns.barplot(x=list(results.keys()), y=list(results.values()))\n",
        "plt.xlabel(\"Model\")\n",
        "plt.ylabel(\"Accuracy\")\n",
        "plt.title(\"Model Performance Comparison\")\n",
        "plt.show()"
      ],
      "metadata": {
        "colab": {
          "base_uri": "https://localhost:8080/",
          "height": 487
        },
        "id": "70G8jCfjj4Yq",
        "outputId": "29f42722-f3ce-4fed-c488-d7c7359464f3"
      },
      "execution_count": 29,
      "outputs": [
        {
          "output_type": "display_data",
          "data": {
            "text/plain": [
              "<Figure size 800x500 with 1 Axes>"
            ],
            "image/png": "[encoded data removed]"
          },
          "metadata": {}
        }
      ]
    }
  ]
}