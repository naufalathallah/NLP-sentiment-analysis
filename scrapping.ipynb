{
 "cells": [
  {
   "cell_type": "code",
   "execution_count": null,
   "metadata": {},
   "outputs": [],
   "source": [
    "import time\n",
    "import pandas as pd\n",
    "from selenium import webdriver\n",
    "from selenium.webdriver.chrome.service import Service\n",
    "from selenium.webdriver.common.by import By\n",
    "\n",
    "# Setup ChromeOptions untuk Docker\n",
    "chrome_options = webdriver.ChromeOptions()\n",
    "chrome_options.add_argument(\"--headless\")  # Wajib di Docker karena tanpa GUI\n",
    "chrome_options.add_argument(\"--no-sandbox\")\n",
    "chrome_options.add_argument(\"--disable-dev-shm-usage\")\n",
    "\n",
    "# Inisialisasi WebDriver untuk Docker (pakai ChromeDriver bawaan image)\n",
    "service = Service(\"/usr/bin/chromedriver\")  \n",
    "driver = webdriver.Chrome(service=service, options=chrome_options)\n",
    "\n",
    "# URL Video YouTube yang ingin di-scrape\n",
    "video_url = \"https://www.youtube.com/watch?v=jDKE5f6_T5w\"\n",
    "driver.get(video_url)\n",
    "time.sleep(5)  # Tunggu halaman termuat\n",
    "\n",
    "# Scroll ke bawah untuk memuat lebih banyak komentar\n",
    "scroll_pause_time = 2\n",
    "last_height = driver.execute_script(\"return document.documentElement.scrollHeight\")\n",
    "\n",
    "while True:\n",
    "    driver.execute_script(\"window.scrollTo(0, document.documentElement.scrollHeight);\")\n",
    "    time.sleep(scroll_pause_time)\n",
    "    \n",
    "    new_height = driver.execute_script(\"return document.documentElement.scrollHeight\")\n",
    "    if new_height == last_height:\n",
    "        break\n",
    "    last_height = new_height\n",
    "\n",
    "# Ambil komentar dari elemen YouTube\n",
    "comments = []\n",
    "comment_elements = driver.find_elements(By.CSS_SELECTOR, \"#content-text\")\n",
    "\n",
    "for comment in comment_elements:\n",
    "    comments.append(comment.text)\n",
    "\n",
    "# Simpan ke file CSV\n",
    "df = pd.DataFrame(comments, columns=[\"Comment\"])\n",
    "df.to_csv(\"/app/youtube_comments.csv\", index=False, encoding=\"utf-8\")\n",
    "\n",
    "print(f\"Scraping selesai! Berhasil menyimpan {len(comments)} komentar di youtube_comments.csv\")\n",
    "\n",
    "# Tutup WebDriver\n",
    "driver.quit()"
   ]
  }
 ],
 "metadata": {
  "kernelspec": {
   "display_name": "Python 3",
   "language": "python",
   "name": "python3"
  },
  "language_info": {
   "codemirror_mode": {
    "name": "ipython",
    "version": 3
   },
   "file_extension": ".py",
   "mimetype": "text/x-python",
   "name": "python",
   "nbconvert_exporter": "python",
   "pygments_lexer": "ipython3",
   "version": "3.11.11"
  }
 },
 "nbformat": 4,
 "nbformat_minor": 2
}
